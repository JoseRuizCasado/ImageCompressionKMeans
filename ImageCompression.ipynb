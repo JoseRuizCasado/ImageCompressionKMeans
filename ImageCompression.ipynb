{
 "cells": [
  {
   "cell_type": "markdown",
   "metadata": {
    "collapsed": true,
    "pycharm": {
     "name": "#%% md\n"
    }
   },
   "source": [
    "# Image compression using K-Means algorithm. \n",
    "K-Means clustering is a form of unsupervised machine learning. Through this notebook I will use K-Means clustering to\n",
    "perform image compression: Pixels in an image will be grouped by their similarity in order to reduce the total number of\n",
    "colors within that image.\n"
   ]
  },
  {
   "cell_type": "code",
   "execution_count": 1,
   "outputs": [],
   "source": [
    "from skimage import io\n",
    "from sklearn.cluster import KMeans\n",
    "import numpy as np\n",
    "import matplotlib.pyplot as plt\n",
    "import matplotlib.image as image"
   ],
   "metadata": {
    "collapsed": false,
    "pycharm": {
     "name": "#%%\n",
     "is_executing": false
    }
   }
  },
  {
   "cell_type": "markdown",
   "source": [
    "## Load Image\n",
    "Image will be loaded and reshaped in order to each row represent a pixel and the three columns represent the Red, Green\n",
    "and Blue values."
   ],
   "metadata": {
    "collapsed": false
   }
  },
  {
   "cell_type": "code",
   "execution_count": 2,
   "outputs": [
    {
     "data": {
      "text/plain": "Array([[0.85882353, 0.70588235, 0.40392157],\n       [0.90196078, 0.7254902 , 0.45490196],\n       [0.88627451, 0.72941176, 0.43137255],\n       ...,\n       [0.25490196, 0.16862745, 0.15294118],\n       [0.22745098, 0.14509804, 0.14901961],\n       [0.20392157, 0.15294118, 0.13333333]])"
     },
     "metadata": {},
     "output_type": "execute_result",
     "execution_count": 2
    }
   ],
   "source": [
    "input_image = io.imread('bird_small.png')\n",
    "reshaped_image = (input_image / 255.0).reshape(-1, 3)\n",
    "reshaped_image"
   ],
   "metadata": {
    "collapsed": false,
    "pycharm": {
     "name": "#%%\n",
     "is_executing": false
    }
   }
  },
  {
   "cell_type": "markdown",
   "source": [
    "## Running K-Means\n",
    "First of all K-Means will be fitted on resized image. The number of clusters is the desired numbers of colors."
   ],
   "metadata": {
    "collapsed": false
   }
  },
  {
   "cell_type": "code",
   "execution_count": 3,
   "outputs": [],
   "source": [
    "k_colors = KMeans(n_clusters=16).fit(reshaped_image)"
   ],
   "metadata": {
    "collapsed": false,
    "pycharm": {
     "name": "#%%\n",
     "is_executing": false
    }
   }
  },
  {
   "cell_type": "markdown",
   "source": [
    "Assign colors to pixels based on their cluster center each row in k_colors.cluster_centers_ represents the RGB value of \n",
    "a cluster centroid k_colors.labels_ contains the cluster that a pixel is assigned to the following assigns every pixel \n",
    "the color of the centroid it is assigned to."
   ],
   "metadata": {
    "collapsed": false
   }
  },
  {
   "cell_type": "code",
   "source": [
    "image_16 = k_colors.cluster_centers_[k_colors.labels_]\n",
    "image_16"
   ],
   "metadata": {
    "collapsed": false,
    "pycharm": {
     "name": "#%%\n",
     "is_executing": false
    }
   },
   "execution_count": 4,
   "outputs": [
    {
     "data": {
      "text/plain": "array([[0.86672256, 0.71873224, 0.45969214],\n       [0.86672256, 0.71873224, 0.45969214],\n       [0.86672256, 0.71873224, 0.45969214],\n       ...,\n       [0.15640251, 0.16011074, 0.15230356],\n       [0.15640251, 0.16011074, 0.15230356],\n       [0.15640251, 0.16011074, 0.15230356]])"
     },
     "metadata": {},
     "output_type": "execute_result",
     "execution_count": 4
    }
   ]
  },
  {
   "cell_type": "markdown",
   "source": [
    "Now image is reshaped to original size to save it"
   ],
   "metadata": {
    "collapsed": false,
    "pycharm": {
     "name": "#%% md\n"
    }
   }
  },
  {
   "cell_type": "code",
   "execution_count": 5,
   "outputs": [
    {
     "data": {
      "text/plain": "array([[[0.86672256, 0.71873224, 0.45969214],\n        [0.86672256, 0.71873224, 0.45969214],\n        [0.86672256, 0.71873224, 0.45969214],\n        ...,\n        [0.08347191, 0.09036018, 0.08007494],\n        [0.08347191, 0.09036018, 0.08007494],\n        [0.08347191, 0.09036018, 0.08007494]],\n\n       [[0.86672256, 0.71873224, 0.45969214],\n        [0.86672256, 0.71873224, 0.45969214],\n        [0.86672256, 0.71873224, 0.45969214],\n        ...,\n        [0.08347191, 0.09036018, 0.08007494],\n        [0.08347191, 0.09036018, 0.08007494],\n        [0.08347191, 0.09036018, 0.08007494]],\n\n       [[0.86672256, 0.71873224, 0.45969214],\n        [0.86672256, 0.71873224, 0.45969214],\n        [0.86672256, 0.71873224, 0.45969214],\n        ...,\n        [0.08347191, 0.09036018, 0.08007494],\n        [0.08347191, 0.09036018, 0.08007494],\n        [0.08347191, 0.09036018, 0.08007494]],\n\n       ...,\n\n       [[0.08347191, 0.09036018, 0.08007494],\n        [0.08347191, 0.09036018, 0.08007494],\n        [0.08347191, 0.09036018, 0.08007494],\n        ...,\n        [0.27630396, 0.24233512, 0.23006665],\n        [0.27630396, 0.24233512, 0.23006665],\n        [0.27630396, 0.24233512, 0.23006665]],\n\n       [[0.08347191, 0.09036018, 0.08007494],\n        [0.08347191, 0.09036018, 0.08007494],\n        [0.08347191, 0.09036018, 0.08007494],\n        ...,\n        [0.27630396, 0.24233512, 0.23006665],\n        [0.15640251, 0.16011074, 0.15230356],\n        [0.15640251, 0.16011074, 0.15230356]],\n\n       [[0.08347191, 0.09036018, 0.08007494],\n        [0.08347191, 0.09036018, 0.08007494],\n        [0.08347191, 0.09036018, 0.08007494],\n        ...,\n        [0.15640251, 0.16011074, 0.15230356],\n        [0.15640251, 0.16011074, 0.15230356],\n        [0.15640251, 0.16011074, 0.15230356]]])"
     },
     "metadata": {},
     "output_type": "execute_result",
     "execution_count": 5
    }
   ],
   "source": [
    "image_16 = np.reshape(image_16, input_image.shape)\n",
    "image_16"
   ],
   "metadata": {
    "collapsed": false,
    "pycharm": {
     "name": "#%%\n",
     "is_executing": false
    }
   }
  },
  {
   "cell_type": "code",
   "execution_count": 7,
   "outputs": [],
   "source": [
    "image.imsave('image_16.png', image_16)\n"
   ],
   "metadata": {
    "collapsed": false,
    "pycharm": {
     "name": "#%%\n",
     "is_executing": false
    }
   }
  }
 ],
 "metadata": {
  "kernelspec": {
   "name": "pycharm-b17394a8",
   "language": "python",
   "display_name": "PyCharm (ImageCompressionKMeans)"
  },
  "language_info": {
   "codemirror_mode": {
    "name": "ipython",
    "version": 2
   },
   "file_extension": ".py",
   "mimetype": "text/x-python",
   "name": "python",
   "nbconvert_exporter": "python",
   "pygments_lexer": "ipython2",
   "version": "2.7.6"
  },
  "pycharm": {
   "stem_cell": {
    "cell_type": "raw",
    "source": [],
    "metadata": {
     "collapsed": false
    }
   }
  }
 },
 "nbformat": 4,
 "nbformat_minor": 0
}